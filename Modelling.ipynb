{
 "cells": [
  {
   "cell_type": "code",
   "execution_count": null,
   "metadata": {
    "colab": {
     "base_uri": "https://localhost:8080/",
     "height": 73,
     "resources": {
      "http://localhost:8080/nbextensions/google.colab/files.js": {
       "data": "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",
       "headers": [
        [
         "content-type",
         "application/javascript"
        ]
       ],
       "ok": true,
       "status": 200,
       "status_text": ""
      }
     }
    },
    "id": "FbVqEFD75ray",
    "outputId": "cbaa7499-14cb-427d-c7fb-eccf891308d5"
   },
   "outputs": [
    {
     "data": {
      "text/html": [
       "\n",
       "     <input type=\"file\" id=\"files-00d85c7c-b13f-4d8b-9c5b-373a6df5ef90\" name=\"files[]\" multiple disabled\n",
       "        style=\"border:none\" />\n",
       "     <output id=\"result-00d85c7c-b13f-4d8b-9c5b-373a6df5ef90\">\n",
       "      Upload widget is only available when the cell has been executed in the\n",
       "      current browser session. Please rerun this cell to enable.\n",
       "      </output>\n",
       "      <script src=\"/nbextensions/google.colab/files.js\"></script> "
      ],
      "text/plain": [
       "<IPython.core.display.HTML object>"
      ]
     },
     "metadata": {
      "tags": []
     },
     "output_type": "display_data"
    },
    {
     "name": "stdout",
     "output_type": "stream",
     "text": [
      "Saving Reply.csv to Reply.csv\n"
     ]
    }
   ],
   "source": [
    "from google.colab import files\n",
    "uploaded = files.upload()\n"
   ]
  },
  {
   "cell_type": "code",
   "execution_count": null,
   "metadata": {
    "id": "_Jpk1wW168Wd"
   },
   "outputs": [],
   "source": [
    "import io\n",
    "import pandas as pd\n",
    "df2 = pd.read_csv(io.BytesIO(uploaded['Reply.csv']))\n",
    "# Dataset is now stored in a Pandas Dataframe"
   ]
  },
  {
   "cell_type": "code",
   "execution_count": null,
   "metadata": {
    "colab": {
     "base_uri": "https://localhost:8080/",
     "height": 195
    },
    "id": "KzVXueHo7EVv",
    "outputId": "ad428674-1d51-4ec9-b29d-a1a43e9daee3"
   },
   "outputs": [
    {
     "data": {
      "text/html": [
       "<div>\n",
       "<style scoped>\n",
       "    .dataframe tbody tr th:only-of-type {\n",
       "        vertical-align: middle;\n",
       "    }\n",
       "\n",
       "    .dataframe tbody tr th {\n",
       "        vertical-align: top;\n",
       "    }\n",
       "\n",
       "    .dataframe thead th {\n",
       "        text-align: right;\n",
       "    }\n",
       "</style>\n",
       "<table border=\"1\" class=\"dataframe\">\n",
       "  <thead>\n",
       "    <tr style=\"text-align: right;\">\n",
       "      <th></th>\n",
       "      <th>Reply mail</th>\n",
       "    </tr>\n",
       "  </thead>\n",
       "  <tbody>\n",
       "    <tr>\n",
       "      <th>0</th>\n",
       "      <td>traveling to have a business meeting takes the...</td>\n",
       "    </tr>\n",
       "    <tr>\n",
       "      <th>1</th>\n",
       "      <td>greg how about either next tuesday or thursday...</td>\n",
       "    </tr>\n",
       "    <tr>\n",
       "      <th>2</th>\n",
       "      <td>any morning between and</td>\n",
       "    </tr>\n",
       "    <tr>\n",
       "      <th>3</th>\n",
       "      <td>paula million is fine phillip</td>\n",
       "    </tr>\n",
       "    <tr>\n",
       "      <th>4</th>\n",
       "      <td>i think fletch has a good cpa  i am still doin...</td>\n",
       "    </tr>\n",
       "  </tbody>\n",
       "</table>\n",
       "</div>"
      ],
      "text/plain": [
       "                                          Reply mail\n",
       "0  traveling to have a business meeting takes the...\n",
       "1  greg how about either next tuesday or thursday...\n",
       "2                           any morning between and \n",
       "3                      paula million is fine phillip\n",
       "4  i think fletch has a good cpa  i am still doin..."
      ]
     },
     "execution_count": 3,
     "metadata": {
      "tags": []
     },
     "output_type": "execute_result"
    }
   ],
   "source": [
    "df2.head()"
   ]
  },
  {
   "cell_type": "code",
   "execution_count": null,
   "metadata": {
    "colab": {
     "base_uri": "https://localhost:8080/"
    },
    "id": "vCUFhAfH7IWM",
    "outputId": "8fd5befd-96bd-47df-f3b1-be76e09e6782"
   },
   "outputs": [
    {
     "data": {
      "text/plain": [
       "(9399, 1)"
      ]
     },
     "execution_count": 4,
     "metadata": {
      "tags": []
     },
     "output_type": "execute_result"
    }
   ],
   "source": [
    "df2.shape"
   ]
  },
  {
   "cell_type": "code",
   "execution_count": null,
   "metadata": {
    "id": "G3Dog7FT7Ls0"
   },
   "outputs": [],
   "source": [
    "%tensorflow_version 2.x\n",
    "import tensorflow as tf\n",
    "import string"
   ]
  },
  {
   "cell_type": "code",
   "execution_count": null,
   "metadata": {
    "colab": {
     "base_uri": "https://localhost:8080/",
     "height": 35
    },
    "id": "Pd2BflRY_Wdl",
    "outputId": "d011ec1a-d2ab-4c26-a351-f0a03e112473"
   },
   "outputs": [
    {
     "data": {
      "application/vnd.google.colaboratory.intrinsic+json": {
       "type": "string"
      },
      "text/plain": [
       "'greg how about either next tuesday or thursday  phillip'"
      ]
     },
     "execution_count": 6,
     "metadata": {
      "tags": []
     },
     "output_type": "execute_result"
    }
   ],
   "source": [
    "df2['Reply mail'][1]"
   ]
  },
  {
   "cell_type": "code",
   "execution_count": null,
   "metadata": {
    "colab": {
     "base_uri": "https://localhost:8080/"
    },
    "id": "nOhW0jSN_dY9",
    "outputId": "d82ac7a0-0a3f-4d70-c3ec-76439757f6b1"
   },
   "outputs": [
    {
     "data": {
      "text/plain": [
       "55"
      ]
     },
     "execution_count": 7,
     "metadata": {
      "tags": []
     },
     "output_type": "execute_result"
    }
   ],
   "source": [
    "len(df2['Reply mail'][1])"
   ]
  },
  {
   "cell_type": "code",
   "execution_count": null,
   "metadata": {
    "id": "zEeYfqou_Fux"
   },
   "outputs": [],
   "source": [
    "need_list=[]\n",
    "rested_list=[]\n",
    "\n",
    "for i in df2['Reply mail']:\n",
    "  j=i.split()\n",
    "  if len(j)>20:\n",
    "    needed=j[:20]\n",
    "    rest=j[20:]\n",
    "    need_list.append(' '.join(needed))\n",
    "    rested_list.append(' '.join(rest))\n",
    "\n",
    "\n"
   ]
  },
  {
   "cell_type": "code",
   "execution_count": null,
   "metadata": {
    "colab": {
     "base_uri": "https://localhost:8080/"
    },
    "id": "7R5PMABaAeMg",
    "outputId": "133d4c90-6d26-4dee-ca8f-c3a2658cbc62"
   },
   "outputs": [
    {
     "data": {
      "text/plain": [
       "7851"
      ]
     },
     "execution_count": 9,
     "metadata": {
      "tags": []
     },
     "output_type": "execute_result"
    }
   ],
   "source": [
    "len(need_list)"
   ]
  },
  {
   "cell_type": "code",
   "execution_count": null,
   "metadata": {
    "colab": {
     "base_uri": "https://localhost:8080/"
    },
    "id": "Ol-L5f0eA3yN",
    "outputId": "896d764d-b59f-485d-e965-074ff0471d68"
   },
   "outputs": [
    {
     "data": {
      "text/plain": [
       "7851"
      ]
     },
     "execution_count": 10,
     "metadata": {
      "tags": []
     },
     "output_type": "execute_result"
    }
   ],
   "source": [
    "len(rested_list)"
   ]
  },
  {
   "cell_type": "code",
   "execution_count": null,
   "metadata": {
    "colab": {
     "base_uri": "https://localhost:8080/",
     "height": 35
    },
    "id": "H49SiFgQQ1Tt",
    "outputId": "d9fcc91c-aff9-45f3-9007-80301295c791"
   },
   "outputs": [
    {
     "data": {
      "application/vnd.google.colaboratory.intrinsic+json": {
       "type": "string"
      },
      "text/plain": [
       "'traveling to have a business meeting takes the fun out of the trip especially if you have to prepare a'"
      ]
     },
     "execution_count": 11,
     "metadata": {
      "tags": []
     },
     "output_type": "execute_result"
    }
   ],
   "source": [
    "need_list[0]"
   ]
  },
  {
   "cell_type": "code",
   "execution_count": null,
   "metadata": {
    "colab": {
     "base_uri": "https://localhost:8080/",
     "height": 119
    },
    "id": "y3CyziWBW4HI",
    "outputId": "575d1e38-da71-48b5-b57a-7ea94b7d27e6"
   },
   "outputs": [
    {
     "data": {
      "application/vnd.google.colaboratory.intrinsic+json": {
       "type": "string"
      },
      "text/plain": [
       "'presentation i would suggest holding the business plan meetings here then take a trip without any formal business meetings i would even try and get some honest opinions on whether a trip is even desired or necessary as far as the business meetings i think it would be more productive to try and stimulate discussions across the different groups about what is working and what is not too often the presenter speaks and the others are quiet just waiting for their turn the meetings might be better if held in a round table discussion format my suggestion for where to go is austin play golf and rent a ski boat and jet ski s flying somewhere takes too much time'"
      ]
     },
     "execution_count": 12,
     "metadata": {
      "tags": []
     },
     "output_type": "execute_result"
    }
   ],
   "source": [
    "rested_list[0]"
   ]
  },
  {
   "cell_type": "code",
   "execution_count": null,
   "metadata": {
    "id": "H8WJOWxOI8ty"
   },
   "outputs": [],
   "source": [
    "X_train2 = need_list[:6000]"
   ]
  },
  {
   "cell_type": "code",
   "execution_count": null,
   "metadata": {
    "id": "j9jcTFOXJIoW"
   },
   "outputs": [],
   "source": [
    "X_test2 = need_list[6000:]"
   ]
  },
  {
   "cell_type": "code",
   "execution_count": null,
   "metadata": {
    "colab": {
     "base_uri": "https://localhost:8080/"
    },
    "id": "E_hveCJCJEzC",
    "outputId": "20dd48d9-4f37-43dd-84c7-512f4951f60a"
   },
   "outputs": [
    {
     "data": {
      "text/plain": [
       "6000"
      ]
     },
     "execution_count": 15,
     "metadata": {
      "tags": []
     },
     "output_type": "execute_result"
    }
   ],
   "source": [
    "len(X_train2)"
   ]
  },
  {
   "cell_type": "code",
   "execution_count": null,
   "metadata": {
    "colab": {
     "base_uri": "https://localhost:8080/",
     "height": 35
    },
    "id": "gzeMJyzBRRAb",
    "outputId": "302fc33a-25b0-452e-da4c-ee98fe9e88ee"
   },
   "outputs": [
    {
     "data": {
      "application/vnd.google.colaboratory.intrinsic+json": {
       "type": "string"
      },
      "text/plain": [
       "'traveling to have a business meeting takes the fun out of the trip especially if you have to prepare a'"
      ]
     },
     "execution_count": 16,
     "metadata": {
      "tags": []
     },
     "output_type": "execute_result"
    }
   ],
   "source": [
    "X_train2[0]"
   ]
  },
  {
   "cell_type": "code",
   "execution_count": null,
   "metadata": {
    "colab": {
     "base_uri": "https://localhost:8080/"
    },
    "id": "Fy6C5GSiJP1G",
    "outputId": "102f1be8-e51f-4317-f088-8ce3b85e40e0"
   },
   "outputs": [
    {
     "data": {
      "text/plain": [
       "1851"
      ]
     },
     "execution_count": 17,
     "metadata": {
      "tags": []
     },
     "output_type": "execute_result"
    }
   ],
   "source": [
    "len(X_test2)"
   ]
  },
  {
   "cell_type": "code",
   "execution_count": null,
   "metadata": {
    "id": "cXLsF9B47Py8"
   },
   "outputs": [],
   "source": [
    "import numpy as np\n",
    "from tensorflow.keras.preprocessing.text import Tokenizer\n",
    "from tensorflow.keras.utils import to_categorical\n",
    "from tensorflow.keras.models import Sequential\n",
    "from tensorflow.keras.layers import Dense, LSTM, Embedding\n",
    "from tensorflow.keras.preprocessing.sequence import pad_sequences"
   ]
  },
  {
   "cell_type": "code",
   "execution_count": null,
   "metadata": {
    "id": "fMshWvJhE4qp"
   },
   "outputs": [],
   "source": [
    "from sklearn.model_selection import train_test_split"
   ]
  },
  {
   "cell_type": "code",
   "execution_count": null,
   "metadata": {
    "id": "uN1cXTtGFqSl"
   },
   "outputs": [],
   "source": [
    "tokenizer3 = Tokenizer()\n",
    "tokenizer3.fit_on_texts(X_train2)\n",
    "sequences3 = tokenizer3.texts_to_sequences(X_train2)"
   ]
  },
  {
   "cell_type": "code",
   "execution_count": null,
   "metadata": {
    "colab": {
     "base_uri": "https://localhost:8080/"
    },
    "id": "TsBWamQLFesc",
    "outputId": "de956294-647b-4fb0-c933-a0fb6f5fe787"
   },
   "outputs": [
    {
     "data": {
      "text/plain": [
       "6000"
      ]
     },
     "execution_count": 21,
     "metadata": {
      "tags": []
     },
     "output_type": "execute_result"
    }
   ],
   "source": [
    "len(sequences3)"
   ]
  },
  {
   "cell_type": "code",
   "execution_count": null,
   "metadata": {
    "id": "VUMIathO7htE"
   },
   "outputs": [],
   "source": [
    "sequences3 = np.array(sequences3)\n"
   ]
  },
  {
   "cell_type": "code",
   "execution_count": null,
   "metadata": {
    "id": "KwaeqFI37mOt"
   },
   "outputs": [],
   "source": [
    "X1,y1 = sequences3[:,:-1], sequences3[:,-1]"
   ]
  },
  {
   "cell_type": "code",
   "execution_count": null,
   "metadata": {
    "id": "6lDvXN8RKGeZ"
   },
   "outputs": [],
   "source": [
    "vocab_size3 = len(tokenizer3.word_index)+1"
   ]
  },
  {
   "cell_type": "code",
   "execution_count": null,
   "metadata": {
    "colab": {
     "base_uri": "https://localhost:8080/"
    },
    "id": "cHWiBdRrSGar",
    "outputId": "a760032b-df45-4ddc-ae23-06a0741cec29"
   },
   "outputs": [
    {
     "data": {
      "text/plain": [
       "array([1920,    1,   22,    9,  337,   86, 1506,    2,  318,   69,   14,\n",
       "          2,  456, 1058,   46,    4,   22,    1, 1685])"
      ]
     },
     "execution_count": 25,
     "metadata": {
      "tags": []
     },
     "output_type": "execute_result"
    }
   ],
   "source": [
    "X1[0]"
   ]
  },
  {
   "cell_type": "code",
   "execution_count": null,
   "metadata": {
    "id": "Deqd6L7ULH_r"
   },
   "outputs": [],
   "source": [
    "y1 = to_categorical(y1,num_classes=vocab_size3)"
   ]
  },
  {
   "cell_type": "code",
   "execution_count": null,
   "metadata": {
    "id": "hHMhZpy5LyhW"
   },
   "outputs": [],
   "source": [
    "seq_length = X1.shape[1]"
   ]
  },
  {
   "cell_type": "code",
   "execution_count": null,
   "metadata": {
    "id": "f0eaRCMSLtdo"
   },
   "outputs": [],
   "source": [
    "model2 = Sequential()\n",
    "model2.add(Embedding(vocab_size3,1,input_length=seq_length))\n",
    "model2.add(LSTM(100,return_sequences=True))\n",
    "model2.add(LSTM(100))\n",
    "model2.add(Dense(100,activation='relu'))\n",
    "model2.add(Dense(vocab_size3,activation='softmax'))\n"
   ]
  },
  {
   "cell_type": "code",
   "execution_count": null,
   "metadata": {
    "colab": {
     "base_uri": "https://localhost:8080/"
    },
    "id": "lgjs99GvMC5r",
    "outputId": "71215288-b2e5-4853-bb27-6d9b33295aeb"
   },
   "outputs": [
    {
     "name": "stdout",
     "output_type": "stream",
     "text": [
      "Model: \"sequential\"\n",
      "_________________________________________________________________\n",
      "Layer (type)                 Output Shape              Param #   \n",
      "=================================================================\n",
      "embedding (Embedding)        (None, 19, 1)             7284      \n",
      "_________________________________________________________________\n",
      "lstm (LSTM)                  (None, 19, 100)           40800     \n",
      "_________________________________________________________________\n",
      "lstm_1 (LSTM)                (None, 100)               80400     \n",
      "_________________________________________________________________\n",
      "dense (Dense)                (None, 100)               10100     \n",
      "_________________________________________________________________\n",
      "dense_1 (Dense)              (None, 7284)              735684    \n",
      "=================================================================\n",
      "Total params: 874,268\n",
      "Trainable params: 874,268\n",
      "Non-trainable params: 0\n",
      "_________________________________________________________________\n"
     ]
    }
   ],
   "source": [
    "model2.summary()"
   ]
  },
  {
   "cell_type": "code",
   "execution_count": null,
   "metadata": {
    "id": "6PU3u7NDMKWn"
   },
   "outputs": [],
   "source": [
    "model2.compile(loss='categorical_crossentropy',optimizer='adam',metrics=['accuracy'])"
   ]
  },
  {
   "cell_type": "code",
   "execution_count": null,
   "metadata": {
    "colab": {
     "base_uri": "https://localhost:8080/"
    },
    "id": "K7D9zN-WMMmH",
    "outputId": "a00ec96c-4ba9-4371-d06e-1960bc5d5b66"
   },
   "outputs": [
    {
     "name": "stdout",
     "output_type": "stream",
     "text": [
      "Epoch 1/200\n",
      "24/24 [==============================] - 9s 19ms/step - loss: 8.7982 - accuracy: 0.0232\n",
      "Epoch 2/200\n",
      "24/24 [==============================] - 0s 15ms/step - loss: 6.4226 - accuracy: 0.0317\n",
      "Epoch 3/200\n",
      "24/24 [==============================] - 0s 14ms/step - loss: 6.1419 - accuracy: 0.0328\n",
      "Epoch 4/200\n",
      "24/24 [==============================] - 0s 14ms/step - loss: 6.0463 - accuracy: 0.0342\n",
      "Epoch 5/200\n",
      "24/24 [==============================] - 0s 13ms/step - loss: 6.0229 - accuracy: 0.0311\n",
      "Epoch 6/200\n",
      "24/24 [==============================] - 0s 13ms/step - loss: 6.0210 - accuracy: 0.0349\n",
      "Epoch 7/200\n",
      "24/24 [==============================] - 0s 13ms/step - loss: 6.0024 - accuracy: 0.0370\n",
      "Epoch 8/200\n",
      "24/24 [==============================] - 0s 13ms/step - loss: 6.0114 - accuracy: 0.0389\n",
      "Epoch 9/200\n",
      "24/24 [==============================] - 0s 13ms/step - loss: 6.0245 - accuracy: 0.0342\n",
      "Epoch 10/200\n",
      "24/24 [==============================] - 0s 13ms/step - loss: 6.0332 - accuracy: 0.0339\n",
      "Epoch 11/200\n",
      "24/24 [==============================] - 0s 13ms/step - loss: 6.0210 - accuracy: 0.0336\n",
      "Epoch 12/200\n",
      "24/24 [==============================] - 0s 13ms/step - loss: 6.0126 - accuracy: 0.0322\n",
      "Epoch 13/200\n",
      "24/24 [==============================] - 0s 13ms/step - loss: 6.0005 - accuracy: 0.0322\n",
      "Epoch 14/200\n",
      "24/24 [==============================] - 0s 12ms/step - loss: 6.0080 - accuracy: 0.0355\n",
      "Epoch 15/200\n",
      "24/24 [==============================] - 0s 13ms/step - loss: 6.0299 - accuracy: 0.0360\n",
      "Epoch 16/200\n",
      "24/24 [==============================] - 0s 14ms/step - loss: 6.0295 - accuracy: 0.0362\n",
      "Epoch 17/200\n",
      "24/24 [==============================] - 0s 14ms/step - loss: 5.9851 - accuracy: 0.0293\n",
      "Epoch 18/200\n",
      "24/24 [==============================] - 0s 13ms/step - loss: 6.0051 - accuracy: 0.0340\n",
      "Epoch 19/200\n",
      "24/24 [==============================] - 0s 13ms/step - loss: 6.0101 - accuracy: 0.0380\n",
      "Epoch 20/200\n",
      "24/24 [==============================] - 0s 13ms/step - loss: 5.9946 - accuracy: 0.0342\n",
      "Epoch 21/200\n",
      "24/24 [==============================] - 0s 13ms/step - loss: 6.0205 - accuracy: 0.0351\n",
      "Epoch 22/200\n",
      "24/24 [==============================] - 0s 13ms/step - loss: 5.9732 - accuracy: 0.0320\n",
      "Epoch 23/200\n",
      "24/24 [==============================] - 0s 14ms/step - loss: 6.0159 - accuracy: 0.0338\n",
      "Epoch 24/200\n",
      "24/24 [==============================] - 0s 14ms/step - loss: 6.0200 - accuracy: 0.0368\n",
      "Epoch 25/200\n",
      "24/24 [==============================] - 0s 14ms/step - loss: 6.0038 - accuracy: 0.0377\n",
      "Epoch 26/200\n",
      "24/24 [==============================] - 0s 13ms/step - loss: 5.9612 - accuracy: 0.0319\n",
      "Epoch 27/200\n",
      "24/24 [==============================] - 0s 14ms/step - loss: 5.9441 - accuracy: 0.0343\n",
      "Epoch 28/200\n",
      "24/24 [==============================] - 0s 13ms/step - loss: 5.8424 - accuracy: 0.0332\n",
      "Epoch 29/200\n",
      "24/24 [==============================] - 0s 13ms/step - loss: 5.7925 - accuracy: 0.0327\n",
      "Epoch 30/200\n",
      "24/24 [==============================] - 0s 13ms/step - loss: 5.7169 - accuracy: 0.0430\n",
      "Epoch 31/200\n",
      "24/24 [==============================] - 0s 13ms/step - loss: 5.6527 - accuracy: 0.0648\n",
      "Epoch 32/200\n",
      "24/24 [==============================] - 0s 14ms/step - loss: 5.5867 - accuracy: 0.0694\n",
      "Epoch 33/200\n",
      "24/24 [==============================] - 0s 13ms/step - loss: 5.4754 - accuracy: 0.0756\n",
      "Epoch 34/200\n",
      "24/24 [==============================] - 0s 13ms/step - loss: 5.4458 - accuracy: 0.0713\n",
      "Epoch 35/200\n",
      "24/24 [==============================] - 0s 13ms/step - loss: 5.3132 - accuracy: 0.0801\n",
      "Epoch 36/200\n",
      "24/24 [==============================] - 0s 13ms/step - loss: 5.2494 - accuracy: 0.0858\n",
      "Epoch 37/200\n",
      "24/24 [==============================] - 0s 13ms/step - loss: 5.1890 - accuracy: 0.0926\n",
      "Epoch 38/200\n",
      "24/24 [==============================] - 0s 13ms/step - loss: 5.1570 - accuracy: 0.0867\n",
      "Epoch 39/200\n",
      "24/24 [==============================] - 0s 13ms/step - loss: 5.0558 - accuracy: 0.1064\n",
      "Epoch 40/200\n",
      "24/24 [==============================] - 0s 13ms/step - loss: 5.0207 - accuracy: 0.1040\n",
      "Epoch 41/200\n",
      "24/24 [==============================] - 0s 13ms/step - loss: 4.9340 - accuracy: 0.1060\n",
      "Epoch 42/200\n",
      "24/24 [==============================] - 0s 13ms/step - loss: 4.8725 - accuracy: 0.1153\n",
      "Epoch 43/200\n",
      "24/24 [==============================] - 0s 13ms/step - loss: 4.8043 - accuracy: 0.1170\n",
      "Epoch 44/200\n",
      "24/24 [==============================] - 0s 13ms/step - loss: 4.7417 - accuracy: 0.1170\n",
      "Epoch 45/200\n",
      "24/24 [==============================] - 0s 13ms/step - loss: 4.6538 - accuracy: 0.1313\n",
      "Epoch 46/200\n",
      "24/24 [==============================] - 0s 13ms/step - loss: 4.6041 - accuracy: 0.1337\n",
      "Epoch 47/200\n",
      "24/24 [==============================] - 0s 13ms/step - loss: 4.5847 - accuracy: 0.1293\n",
      "Epoch 48/200\n",
      "24/24 [==============================] - 0s 13ms/step - loss: 4.4924 - accuracy: 0.1332\n",
      "Epoch 49/200\n",
      "24/24 [==============================] - 0s 13ms/step - loss: 4.4278 - accuracy: 0.1440\n",
      "Epoch 50/200\n",
      "24/24 [==============================] - 0s 13ms/step - loss: 4.3743 - accuracy: 0.1377\n",
      "Epoch 51/200\n",
      "24/24 [==============================] - 0s 14ms/step - loss: 4.3252 - accuracy: 0.1512\n",
      "Epoch 52/200\n",
      "24/24 [==============================] - 0s 14ms/step - loss: 4.2692 - accuracy: 0.1605\n",
      "Epoch 53/200\n",
      "24/24 [==============================] - 0s 13ms/step - loss: 4.2132 - accuracy: 0.1637\n",
      "Epoch 54/200\n",
      "24/24 [==============================] - 0s 14ms/step - loss: 4.1814 - accuracy: 0.1640\n",
      "Epoch 55/200\n",
      "24/24 [==============================] - 0s 14ms/step - loss: 4.1065 - accuracy: 0.1701\n",
      "Epoch 56/200\n",
      "24/24 [==============================] - 0s 13ms/step - loss: 4.0757 - accuracy: 0.1808\n",
      "Epoch 57/200\n",
      "24/24 [==============================] - 0s 13ms/step - loss: 3.9851 - accuracy: 0.1885\n",
      "Epoch 58/200\n",
      "24/24 [==============================] - 0s 13ms/step - loss: 3.9559 - accuracy: 0.1807\n",
      "Epoch 59/200\n",
      "24/24 [==============================] - 0s 12ms/step - loss: 3.9190 - accuracy: 0.1993\n",
      "Epoch 60/200\n",
      "24/24 [==============================] - 0s 13ms/step - loss: 3.8816 - accuracy: 0.1927\n",
      "Epoch 61/200\n",
      "24/24 [==============================] - 0s 13ms/step - loss: 3.8172 - accuracy: 0.2121\n",
      "Epoch 62/200\n",
      "24/24 [==============================] - 0s 13ms/step - loss: 3.8084 - accuracy: 0.1985\n",
      "Epoch 63/200\n",
      "24/24 [==============================] - 0s 14ms/step - loss: 3.7631 - accuracy: 0.2140\n",
      "Epoch 64/200\n",
      "24/24 [==============================] - 0s 14ms/step - loss: 3.6970 - accuracy: 0.2288\n",
      "Epoch 65/200\n",
      "24/24 [==============================] - 0s 14ms/step - loss: 3.6940 - accuracy: 0.2155\n",
      "Epoch 66/200\n",
      "24/24 [==============================] - 0s 14ms/step - loss: 3.6573 - accuracy: 0.2262\n",
      "Epoch 67/200\n",
      "24/24 [==============================] - 0s 14ms/step - loss: 3.6550 - accuracy: 0.2174\n",
      "Epoch 68/200\n",
      "24/24 [==============================] - 0s 13ms/step - loss: 3.5937 - accuracy: 0.2342\n",
      "Epoch 69/200\n",
      "24/24 [==============================] - 0s 12ms/step - loss: 3.5589 - accuracy: 0.2386\n",
      "Epoch 70/200\n",
      "24/24 [==============================] - 0s 14ms/step - loss: 3.5242 - accuracy: 0.2395\n",
      "Epoch 71/200\n",
      "24/24 [==============================] - 0s 13ms/step - loss: 3.5134 - accuracy: 0.2436\n",
      "Epoch 72/200\n",
      "24/24 [==============================] - 0s 13ms/step - loss: 3.4475 - accuracy: 0.2490\n",
      "Epoch 73/200\n",
      "24/24 [==============================] - 0s 13ms/step - loss: 3.4264 - accuracy: 0.2526\n",
      "Epoch 74/200\n",
      "24/24 [==============================] - 0s 12ms/step - loss: 3.3770 - accuracy: 0.2537\n",
      "Epoch 75/200\n",
      "24/24 [==============================] - 0s 13ms/step - loss: 3.3913 - accuracy: 0.2501\n",
      "Epoch 76/200\n",
      "24/24 [==============================] - 0s 13ms/step - loss: 3.3263 - accuracy: 0.2621\n",
      "Epoch 77/200\n",
      "24/24 [==============================] - 0s 12ms/step - loss: 3.3006 - accuracy: 0.2625\n",
      "Epoch 78/200\n",
      "24/24 [==============================] - 0s 12ms/step - loss: 3.2443 - accuracy: 0.2823\n",
      "Epoch 79/200\n",
      "24/24 [==============================] - 0s 13ms/step - loss: 3.2666 - accuracy: 0.2591\n",
      "Epoch 80/200\n",
      "24/24 [==============================] - 0s 12ms/step - loss: 3.2307 - accuracy: 0.2824\n",
      "Epoch 81/200\n",
      "24/24 [==============================] - 0s 12ms/step - loss: 3.2138 - accuracy: 0.2772\n",
      "Epoch 82/200\n",
      "24/24 [==============================] - 0s 13ms/step - loss: 3.1856 - accuracy: 0.2700\n",
      "Epoch 83/200\n",
      "24/24 [==============================] - 0s 13ms/step - loss: 3.1199 - accuracy: 0.2946\n",
      "Epoch 84/200\n",
      "24/24 [==============================] - 0s 13ms/step - loss: 3.1168 - accuracy: 0.2832\n",
      "Epoch 85/200\n",
      "24/24 [==============================] - 0s 13ms/step - loss: 3.1127 - accuracy: 0.2938\n",
      "Epoch 86/200\n",
      "24/24 [==============================] - 0s 13ms/step - loss: 3.0899 - accuracy: 0.2976\n",
      "Epoch 87/200\n",
      "24/24 [==============================] - 0s 14ms/step - loss: 3.0748 - accuracy: 0.2996\n",
      "Epoch 88/200\n",
      "24/24 [==============================] - 0s 13ms/step - loss: 3.0201 - accuracy: 0.3057\n",
      "Epoch 89/200\n",
      "24/24 [==============================] - 0s 13ms/step - loss: 2.9977 - accuracy: 0.3090\n",
      "Epoch 90/200\n",
      "24/24 [==============================] - 0s 12ms/step - loss: 2.9531 - accuracy: 0.3033\n",
      "Epoch 91/200\n",
      "24/24 [==============================] - 0s 12ms/step - loss: 2.9720 - accuracy: 0.3133\n",
      "Epoch 92/200\n",
      "24/24 [==============================] - 0s 13ms/step - loss: 2.9692 - accuracy: 0.3108\n",
      "Epoch 93/200\n",
      "24/24 [==============================] - 0s 12ms/step - loss: 2.9415 - accuracy: 0.3153\n",
      "Epoch 94/200\n",
      "24/24 [==============================] - 0s 13ms/step - loss: 2.9171 - accuracy: 0.3131\n",
      "Epoch 95/200\n",
      "24/24 [==============================] - 0s 13ms/step - loss: 2.8867 - accuracy: 0.3387\n",
      "Epoch 96/200\n",
      "24/24 [==============================] - 0s 14ms/step - loss: 2.8302 - accuracy: 0.3382\n",
      "Epoch 97/200\n",
      "24/24 [==============================] - 0s 14ms/step - loss: 2.8520 - accuracy: 0.3330\n",
      "Epoch 98/200\n",
      "24/24 [==============================] - 0s 13ms/step - loss: 2.9022 - accuracy: 0.3154\n",
      "Epoch 99/200\n",
      "24/24 [==============================] - 0s 14ms/step - loss: 2.7774 - accuracy: 0.3486\n",
      "Epoch 100/200\n",
      "24/24 [==============================] - 0s 13ms/step - loss: 2.7882 - accuracy: 0.3425\n",
      "Epoch 101/200\n",
      "24/24 [==============================] - 0s 13ms/step - loss: 2.7558 - accuracy: 0.3590\n",
      "Epoch 102/200\n",
      "24/24 [==============================] - 0s 13ms/step - loss: 2.7524 - accuracy: 0.3506\n",
      "Epoch 103/200\n",
      "24/24 [==============================] - 0s 13ms/step - loss: 2.7188 - accuracy: 0.3568\n",
      "Epoch 104/200\n",
      "24/24 [==============================] - 0s 13ms/step - loss: 2.6941 - accuracy: 0.3619\n",
      "Epoch 105/200\n",
      "24/24 [==============================] - 0s 13ms/step - loss: 2.6762 - accuracy: 0.3704\n",
      "Epoch 106/200\n",
      "24/24 [==============================] - 0s 13ms/step - loss: 2.6387 - accuracy: 0.3768\n",
      "Epoch 107/200\n",
      "24/24 [==============================] - 0s 13ms/step - loss: 2.6220 - accuracy: 0.3752\n",
      "Epoch 108/200\n",
      "24/24 [==============================] - 0s 12ms/step - loss: 2.6299 - accuracy: 0.3613\n",
      "Epoch 109/200\n",
      "24/24 [==============================] - 0s 13ms/step - loss: 2.5842 - accuracy: 0.3839\n",
      "Epoch 110/200\n",
      "24/24 [==============================] - 0s 13ms/step - loss: 2.5704 - accuracy: 0.3926\n",
      "Epoch 111/200\n",
      "24/24 [==============================] - 0s 12ms/step - loss: 2.5665 - accuracy: 0.3935\n",
      "Epoch 112/200\n",
      "24/24 [==============================] - 0s 13ms/step - loss: 2.5252 - accuracy: 0.3917\n",
      "Epoch 113/200\n",
      "24/24 [==============================] - 0s 13ms/step - loss: 2.5129 - accuracy: 0.3980\n",
      "Epoch 114/200\n",
      "24/24 [==============================] - 0s 13ms/step - loss: 2.4782 - accuracy: 0.4058\n",
      "Epoch 115/200\n",
      "24/24 [==============================] - 0s 13ms/step - loss: 2.4967 - accuracy: 0.3928\n",
      "Epoch 116/200\n",
      "24/24 [==============================] - 0s 13ms/step - loss: 2.4488 - accuracy: 0.4137\n",
      "Epoch 117/200\n",
      "24/24 [==============================] - 0s 13ms/step - loss: 2.4248 - accuracy: 0.4217\n",
      "Epoch 118/200\n",
      "24/24 [==============================] - 0s 12ms/step - loss: 2.3943 - accuracy: 0.4197\n",
      "Epoch 119/200\n",
      "24/24 [==============================] - 0s 13ms/step - loss: 2.4064 - accuracy: 0.4151\n",
      "Epoch 120/200\n",
      "24/24 [==============================] - 0s 13ms/step - loss: 2.3815 - accuracy: 0.4152\n",
      "Epoch 121/200\n",
      "24/24 [==============================] - 0s 14ms/step - loss: 2.3729 - accuracy: 0.4298\n",
      "Epoch 122/200\n",
      "24/24 [==============================] - 0s 14ms/step - loss: 2.3454 - accuracy: 0.4231\n",
      "Epoch 123/200\n",
      "24/24 [==============================] - 0s 13ms/step - loss: 2.3565 - accuracy: 0.4249\n",
      "Epoch 124/200\n",
      "24/24 [==============================] - 0s 14ms/step - loss: 2.3224 - accuracy: 0.4380\n",
      "Epoch 125/200\n",
      "24/24 [==============================] - 0s 14ms/step - loss: 2.3563 - accuracy: 0.4304\n",
      "Epoch 126/200\n",
      "24/24 [==============================] - 0s 13ms/step - loss: 2.3288 - accuracy: 0.4408\n",
      "Epoch 127/200\n",
      "24/24 [==============================] - 0s 14ms/step - loss: 2.2706 - accuracy: 0.4509\n",
      "Epoch 128/200\n",
      "24/24 [==============================] - 0s 14ms/step - loss: 2.2977 - accuracy: 0.4464\n",
      "Epoch 129/200\n",
      "24/24 [==============================] - 0s 13ms/step - loss: 2.3057 - accuracy: 0.4417\n",
      "Epoch 130/200\n",
      "24/24 [==============================] - 0s 13ms/step - loss: 2.2585 - accuracy: 0.4436\n",
      "Epoch 131/200\n",
      "24/24 [==============================] - 0s 12ms/step - loss: 2.2304 - accuracy: 0.4653\n",
      "Epoch 132/200\n",
      "24/24 [==============================] - 0s 13ms/step - loss: 2.2204 - accuracy: 0.4593\n",
      "Epoch 133/200\n",
      "24/24 [==============================] - 0s 13ms/step - loss: 2.1883 - accuracy: 0.4690\n",
      "Epoch 134/200\n",
      "24/24 [==============================] - 0s 13ms/step - loss: 2.1748 - accuracy: 0.4635\n",
      "Epoch 135/200\n",
      "24/24 [==============================] - 0s 13ms/step - loss: 2.1828 - accuracy: 0.4656\n",
      "Epoch 136/200\n",
      "24/24 [==============================] - 0s 13ms/step - loss: 2.1613 - accuracy: 0.4806\n",
      "Epoch 137/200\n",
      "24/24 [==============================] - 0s 14ms/step - loss: 2.1337 - accuracy: 0.4851\n",
      "Epoch 138/200\n",
      "24/24 [==============================] - 0s 13ms/step - loss: 2.0996 - accuracy: 0.4895\n",
      "Epoch 139/200\n",
      "24/24 [==============================] - 0s 12ms/step - loss: 2.0775 - accuracy: 0.4940\n",
      "Epoch 140/200\n",
      "24/24 [==============================] - 0s 13ms/step - loss: 2.0865 - accuracy: 0.5005\n",
      "Epoch 141/200\n",
      "24/24 [==============================] - 0s 13ms/step - loss: 2.0788 - accuracy: 0.4979\n",
      "Epoch 142/200\n",
      "24/24 [==============================] - 0s 13ms/step - loss: 2.0872 - accuracy: 0.4870\n",
      "Epoch 143/200\n",
      "24/24 [==============================] - 0s 13ms/step - loss: 2.0721 - accuracy: 0.4913\n",
      "Epoch 144/200\n",
      "24/24 [==============================] - 0s 13ms/step - loss: 2.0350 - accuracy: 0.5019\n",
      "Epoch 145/200\n",
      "24/24 [==============================] - 0s 13ms/step - loss: 2.0443 - accuracy: 0.5034\n",
      "Epoch 146/200\n",
      "24/24 [==============================] - 0s 13ms/step - loss: 2.0147 - accuracy: 0.5203\n",
      "Epoch 147/200\n",
      "24/24 [==============================] - 0s 13ms/step - loss: 2.0053 - accuracy: 0.5104\n",
      "Epoch 148/200\n",
      "24/24 [==============================] - 0s 13ms/step - loss: 1.9722 - accuracy: 0.5184\n",
      "Epoch 149/200\n",
      "24/24 [==============================] - 0s 13ms/step - loss: 1.9423 - accuracy: 0.5226\n",
      "Epoch 150/200\n",
      "24/24 [==============================] - 0s 14ms/step - loss: 1.9748 - accuracy: 0.5094\n",
      "Epoch 151/200\n",
      "24/24 [==============================] - 0s 14ms/step - loss: 1.9692 - accuracy: 0.5239\n",
      "Epoch 152/200\n",
      "24/24 [==============================] - 0s 12ms/step - loss: 1.9319 - accuracy: 0.5196\n",
      "Epoch 153/200\n",
      "24/24 [==============================] - 0s 13ms/step - loss: 1.9312 - accuracy: 0.5310\n",
      "Epoch 154/200\n",
      "24/24 [==============================] - 0s 12ms/step - loss: 1.9233 - accuracy: 0.5355\n",
      "Epoch 155/200\n",
      "24/24 [==============================] - 0s 13ms/step - loss: 1.8719 - accuracy: 0.5458\n",
      "Epoch 156/200\n",
      "24/24 [==============================] - 0s 14ms/step - loss: 1.8845 - accuracy: 0.5377\n",
      "Epoch 157/200\n",
      "24/24 [==============================] - 0s 13ms/step - loss: 1.8842 - accuracy: 0.5383\n",
      "Epoch 158/200\n",
      "24/24 [==============================] - 0s 13ms/step - loss: 1.8596 - accuracy: 0.5434\n",
      "Epoch 159/200\n",
      "24/24 [==============================] - 0s 13ms/step - loss: 1.8404 - accuracy: 0.5585\n",
      "Epoch 160/200\n",
      "24/24 [==============================] - 0s 13ms/step - loss: 1.8247 - accuracy: 0.5484\n",
      "Epoch 161/200\n",
      "24/24 [==============================] - 0s 13ms/step - loss: 1.8200 - accuracy: 0.5649\n",
      "Epoch 162/200\n",
      "24/24 [==============================] - 0s 13ms/step - loss: 1.8199 - accuracy: 0.5534\n",
      "Epoch 163/200\n",
      "24/24 [==============================] - 0s 13ms/step - loss: 1.8004 - accuracy: 0.5644\n",
      "Epoch 164/200\n",
      "24/24 [==============================] - 0s 13ms/step - loss: 1.7381 - accuracy: 0.5776\n",
      "Epoch 165/200\n",
      "24/24 [==============================] - 0s 14ms/step - loss: 1.7420 - accuracy: 0.5875\n",
      "Epoch 166/200\n",
      "24/24 [==============================] - 0s 14ms/step - loss: 1.7465 - accuracy: 0.5758\n",
      "Epoch 167/200\n",
      "24/24 [==============================] - 0s 13ms/step - loss: 1.7174 - accuracy: 0.5834\n",
      "Epoch 168/200\n",
      "24/24 [==============================] - 0s 12ms/step - loss: 1.7511 - accuracy: 0.5807\n",
      "Epoch 169/200\n",
      "24/24 [==============================] - 0s 13ms/step - loss: 1.6790 - accuracy: 0.5870\n",
      "Epoch 170/200\n",
      "24/24 [==============================] - 0s 13ms/step - loss: 1.6903 - accuracy: 0.5936\n",
      "Epoch 171/200\n",
      "24/24 [==============================] - 0s 13ms/step - loss: 1.6769 - accuracy: 0.5876\n",
      "Epoch 172/200\n",
      "24/24 [==============================] - 0s 13ms/step - loss: 1.6863 - accuracy: 0.5931\n",
      "Epoch 173/200\n",
      "24/24 [==============================] - 0s 13ms/step - loss: 1.6897 - accuracy: 0.5910\n",
      "Epoch 174/200\n",
      "24/24 [==============================] - 0s 13ms/step - loss: 1.6603 - accuracy: 0.5890\n",
      "Epoch 175/200\n",
      "24/24 [==============================] - 0s 13ms/step - loss: 1.6363 - accuracy: 0.6021\n",
      "Epoch 176/200\n",
      "24/24 [==============================] - 0s 13ms/step - loss: 1.6377 - accuracy: 0.6020\n",
      "Epoch 177/200\n",
      "24/24 [==============================] - 0s 13ms/step - loss: 1.6066 - accuracy: 0.6083\n",
      "Epoch 178/200\n",
      "24/24 [==============================] - 0s 13ms/step - loss: 1.6007 - accuracy: 0.6134\n",
      "Epoch 179/200\n",
      "24/24 [==============================] - 0s 13ms/step - loss: 1.5795 - accuracy: 0.6198\n",
      "Epoch 180/200\n",
      "24/24 [==============================] - 0s 13ms/step - loss: 1.5733 - accuracy: 0.6257\n",
      "Epoch 181/200\n",
      "24/24 [==============================] - 0s 13ms/step - loss: 1.5836 - accuracy: 0.6072\n",
      "Epoch 182/200\n",
      "24/24 [==============================] - 0s 12ms/step - loss: 1.5783 - accuracy: 0.6207\n",
      "Epoch 183/200\n",
      "24/24 [==============================] - 0s 13ms/step - loss: 1.5581 - accuracy: 0.6194\n",
      "Epoch 184/200\n",
      "24/24 [==============================] - 0s 14ms/step - loss: 1.5744 - accuracy: 0.6184\n",
      "Epoch 185/200\n",
      "24/24 [==============================] - 0s 13ms/step - loss: 1.5220 - accuracy: 0.6254\n",
      "Epoch 186/200\n",
      "24/24 [==============================] - 0s 13ms/step - loss: 1.5027 - accuracy: 0.6416\n",
      "Epoch 187/200\n",
      "24/24 [==============================] - 0s 13ms/step - loss: 1.5196 - accuracy: 0.6354\n",
      "Epoch 188/200\n",
      "24/24 [==============================] - 0s 13ms/step - loss: 1.4846 - accuracy: 0.6402\n",
      "Epoch 189/200\n",
      "24/24 [==============================] - 0s 13ms/step - loss: 1.5115 - accuracy: 0.6296\n",
      "Epoch 190/200\n",
      "24/24 [==============================] - 0s 12ms/step - loss: 1.5055 - accuracy: 0.6407\n",
      "Epoch 191/200\n",
      "24/24 [==============================] - 0s 13ms/step - loss: 1.4948 - accuracy: 0.6373\n",
      "Epoch 192/200\n",
      "24/24 [==============================] - 0s 13ms/step - loss: 1.4237 - accuracy: 0.6664\n",
      "Epoch 193/200\n",
      "24/24 [==============================] - 0s 12ms/step - loss: 1.4491 - accuracy: 0.6491\n",
      "Epoch 194/200\n",
      "24/24 [==============================] - 0s 13ms/step - loss: 1.4486 - accuracy: 0.6499\n",
      "Epoch 195/200\n",
      "24/24 [==============================] - 0s 13ms/step - loss: 1.4205 - accuracy: 0.6536\n",
      "Epoch 196/200\n",
      "24/24 [==============================] - 0s 14ms/step - loss: 1.4149 - accuracy: 0.6670\n",
      "Epoch 197/200\n",
      "24/24 [==============================] - 0s 14ms/step - loss: 1.3796 - accuracy: 0.6671\n",
      "Epoch 198/200\n",
      "24/24 [==============================] - 0s 14ms/step - loss: 1.4152 - accuracy: 0.6592\n",
      "Epoch 199/200\n",
      "24/24 [==============================] - 0s 13ms/step - loss: 1.3880 - accuracy: 0.6707\n",
      "Epoch 200/200\n",
      "24/24 [==============================] - 0s 13ms/step - loss: 1.4134 - accuracy: 0.6590\n"
     ]
    },
    {
     "data": {
      "text/plain": [
       "<tensorflow.python.keras.callbacks.History at 0x7f80d01066d8>"
      ]
     },
     "execution_count": 31,
     "metadata": {
      "tags": []
     },
     "output_type": "execute_result"
    }
   ],
   "source": [
    "model2.fit(X1,y1,batch_size=256,epochs=200)"
   ]
  },
  {
   "cell_type": "code",
   "execution_count": null,
   "metadata": {
    "id": "Z4ZtA1veQBiW"
   },
   "outputs": [],
   "source": [
    "def generate_text_seq(model,tokenizer,text_seq_length, seed_text,n_words):\n",
    "  text=[]\n",
    "\n",
    "  for _ in range(n_words):\n",
    "    encoded = tokenizer.texts_to_sequences([seed_text])[0]\n",
    "    encoded = pad_sequences([encoded],maxlen=text_seq_length,truncating='pre')\n",
    "\n",
    "    y_predict = model.predict_classes(encoded)\n",
    "    predicted_word =''\n",
    "    for word, index in tokenizer.word_index.items():\n",
    "      if index == y_predict:\n",
    "        predicted_word = word\n",
    "        break\n",
    "    seed_text = seed_text + ' ' + predicted_word\n",
    "    text.append(predicted_word)\n",
    "  return ' '.join(text)  \n"
   ]
  },
  {
   "cell_type": "code",
   "execution_count": null,
   "metadata": {
    "id": "OOkLsp__QccS"
   },
   "outputs": [],
   "source": []
  },
  {
   "cell_type": "code",
   "execution_count": null,
   "metadata": {
    "colab": {
     "base_uri": "https://localhost:8080/"
    },
    "id": "UsYHCHFFVvER",
    "outputId": "71c12c04-0925-4e15-d9db-9c44ee0ccfe0"
   },
   "outputs": [
    {
     "data": {
      "text/plain": [
       "1851"
      ]
     },
     "execution_count": 39,
     "metadata": {
      "tags": []
     },
     "output_type": "execute_result"
    }
   ],
   "source": [
    "len(y_test)\n"
   ]
  },
  {
   "cell_type": "code",
   "execution_count": null,
   "metadata": {
    "id": "3gUSIILVWPn-"
   },
   "outputs": [],
   "source": [
    "y_test=rested_list[6000:]"
   ]
  },
  {
   "cell_type": "code",
   "execution_count": null,
   "metadata": {
    "colab": {
     "base_uri": "https://localhost:8080/",
     "height": 154
    },
    "id": "FsTDS56kW83j",
    "outputId": "36728da9-604c-457c-f4b6-df6b87922e56"
   },
   "outputs": [
    {
     "data": {
      "application/vnd.google.colaboratory.intrinsic+json": {
       "type": "string"
      },
      "text/plain": [
       "'bond credits sdge recently refunded these credits to our customers by check we are currently in the process of collecting these credits from the commercial accounts but do we recover these credits amounting to from the residential customers below is a description of the reason for this credit this credit has been made possible due to a unique set of circumstances involving electric industry restructuring which has proceeded in accordance with california state law ab ab required sdg e to lower electric rates by for residential and small commercial customers then froze rate levels for up to years ab also allowed sdg e to issue rate reduction bonds to finance the rate reduction in sdg e issued rate reduction bonds in an amount adequate to provide a rate reduction for years however sdg e was able to recover many costs related to the transition to a competitive market years early by last july through the sale of its two san diego power plants at higher than expected prices and through numerous other actions that combination of factors and the benefits of the rate reduction bonds mean sdg e is able to distribute about million to its customers the bonds cannot be paid off early so the current trust transfer amount line item on the sdg e bill which pays for the bonds will continue for the bond life an important point to clarify is that the money being distributed does not represent over collections from prior years customers have benefited from many of the changes brought about by electric industry restructuring these include the electric rate reduction the electric rate freeze and the monthly trust transfer amount credit the trust transfer amount is the charge that pays for the rate reduction bonds has funded the benefits customers have already received and is funding this lump sum trust transfer amount credit enron energy services from marianne castano pm to dennis benevides hou ees ees cc jeff dasovich na enron enron karen a cordova hou ees ees diann huddleson hou ees ees subject re sdg e credits dennis just wanted to bring this item to your attention we ve researched the terms of our residential agreements and have noted that they are silent as to the issue of credits refunds i ve asked jeff and mike day our regulatory counsel in ca for their input on whether we should refund these credits back to our residential customers notwithstanding the fact that the language of the original decision allowing the credits does not address direct access customers jeff and mike recommend given the current climate in california that we take action to refund these credits to our residential customers just want to make sure you re on board with this before we direct csc to refund the credit back to our residential accounts marianne enron energy services from karen a cordova pm phone no fax no to marianne castano hou ees ees cc subject sdg e credits diane huddelston called lori pinder about an issue here it is due to the merger btw sdg g sempra energy about a year or less ago a savings was realized the cpuc said these savings must be passed on to customers time per year in september they are called annual merger credits pursuant to all commercial contracts enron is entitled to keep the savings per diane what about the residential customer accounts enron keeps the savings or should the residential customer receive who could handle this issue for diane thanks kc'"
      ]
     },
     "execution_count": 52,
     "metadata": {
      "tags": []
     },
     "output_type": "execute_result"
    }
   ],
   "source": [
    "y_test[123]"
   ]
  },
  {
   "cell_type": "code",
   "execution_count": null,
   "metadata": {
    "colab": {
     "base_uri": "https://localhost:8080/",
     "height": 35
    },
    "id": "Xcsbp3PoXCDh",
    "outputId": "9072db26-5ac5-4a44-e19f-910509adb5a1"
   },
   "outputs": [
    {
     "data": {
      "application/vnd.google.colaboratory.intrinsic+json": {
       "type": "string"
      },
      "text/plain": [
       "'all this is currently an issue not only with the annual merger savings credit but also the sdge rate reduction'"
      ]
     },
     "execution_count": 51,
     "metadata": {
      "tags": []
     },
     "output_type": "execute_result"
    }
   ],
   "source": [
    "X_test2[123]"
   ]
  },
  {
   "cell_type": "code",
   "execution_count": null,
   "metadata": {
    "id": "HTLHWyyKlDZG"
   },
   "outputs": [],
   "source": [
    "seed_text=X_test2[123]"
   ]
  },
  {
   "cell_type": "code",
   "execution_count": null,
   "metadata": {
    "colab": {
     "base_uri": "https://localhost:8080/",
     "height": 89
    },
    "id": "EpVrhbnsXHNz",
    "outputId": "c1365de7-0bce-4813-95c1-1f071bcf5bd7"
   },
   "outputs": [
    {
     "name": "stderr",
     "output_type": "stream",
     "text": [
      "/usr/local/lib/python3.6/dist-packages/tensorflow/python/keras/engine/sequential.py:450: UserWarning: `model.predict_classes()` is deprecated and will be removed after 2021-01-01. Please use instead:* `np.argmax(model.predict(x), axis=-1)`,   if your model does multi-class classification   (e.g. if it uses a `softmax` last-layer activation).* `(model.predict(x) > 0.5).astype(\"int32\")`,   if your model does binary classification   (e.g. if it uses a `sigmoid` last-layer activation).\n",
      "  warnings.warn('`model.predict_classes()` is deprecated and '\n"
     ]
    },
    {
     "data": {
      "application/vnd.google.colaboratory.intrinsic+json": {
       "type": "string"
      },
      "text/plain": [
       "'monday gas over cwhite wood'"
      ]
     },
     "execution_count": 54,
     "metadata": {
      "tags": []
     },
     "output_type": "execute_result"
    }
   ],
   "source": [
    "generate_text_seq(model2,tokenizer3,seq_length, seed_text, 5 )"
   ]
  },
  {
   "cell_type": "code",
   "execution_count": null,
   "metadata": {
    "colab": {
     "base_uri": "https://localhost:8080/",
     "height": 35
    },
    "id": "uR_ouaTSlvi8",
    "outputId": "51092364-e0bc-4b8d-e316-11826d0aeffc"
   },
   "outputs": [
    {
     "data": {
      "application/vnd.google.colaboratory.intrinsic+json": {
       "type": "string"
      },
      "text/plain": [
       "'steve peace is watching his political career vanish before his very eyes couldn t happen to a nicer guy rightly'"
      ]
     },
     "execution_count": 55,
     "metadata": {
      "tags": []
     },
     "output_type": "execute_result"
    }
   ],
   "source": [
    "X_test2[213]"
   ]
  },
  {
   "cell_type": "code",
   "execution_count": null,
   "metadata": {
    "colab": {
     "base_uri": "https://localhost:8080/",
     "height": 154
    },
    "id": "TpFzkTg2lz5X",
    "outputId": "1c3dbdef-f2e6-4734-aff6-71ce3e3147d7"
   },
   "outputs": [
    {
     "data": {
      "application/vnd.google.colaboratory.intrinsic+json": {
       "type": "string"
      },
      "text/plain": [
       "'or wrongly he s determined that this tack is his last and best option to salvage something whether anyone joins his parade is a whole other question nevertheless we should expect him to continue susan j mara am to james d steffes na enron enron paul kaufman pdx ect ect richar d shapiro na enron enron jeff dasovich na enron enron mona l petrochko na enron enron mary hain hou ect ect joe hartsoe corp enron enron sarah novosel corp enron enron sandra mccubbin na enron enron rcarroll bracepatt com cc subject peace press conference notes this is pretty much an all out attack against the positions that we and the generators have taken forwarded by susan j mara na enron on am julee malinowski ball jmball ns net pm please respond to julee malinowski ball to william hall wfhall duke energy com trond aschehoug taschehoug thermoecotek com tony wetzel twetzel thermoecotek com tandy mcmannes mcmannes aol com sue mara smara enron com steven kelley steven iepa com steve ponder steve ponder fpl com roger pelote roger pelote williams com robert lamkin rllamkin seiworldwide com paula soos paula soos ogden energy com marty mcfadden marty mcfadden ogden energy com lynn lednicky lale dynegy com kent fickett kfickett usgen com ken hoffman khoffman caithnessenergy com jonathan weisgall jweisgall aol com john stout john h stout reliantenergy com joe ronan joer calpine com joe greco joe greco uaecorp com jim willey elliottsa earthlink net jack pigott jackp calpine com iep iepa com hap boyd rboyd enron com greg blue gtbl dynegy com frank derosa fderosa sanfrancisco usgen com ed tomeo ed tomeo uaecorp com duane nelson dnelsen msn com dean gosselin dean gosselin fpl com david parquet dparque ect enron com david keane dnke dynegy com curtis kebler curtis l kebler reliantenergy com carolyn baker cabaker duke energy com bob escalante rescalante riobravo gm com b ob ellery bellery spi ind com bill woods billw calpine com bill carlson william carlson wastemanagement com stephanie newell stephanie newell reliantenergy com richard hyde rwhyde duke energy com kassandra gough kgough calpine com cc susan mccabe sfmccabe mindspring com scott govenar sgovenar govadv com ron tom thackbarth govadv com robert ross robbiz cwo com phil isenberg isenberg hmot com mike monagan mrmonagan aol com maureen oharen oharen hmot com marie moretti marie moretti msn com kassandra gough kgough calpine com hedy govenar hgovenar acom com delany hunter dhunter smithandkempton com bev hansen bhansen lhom com anne kelly kelly hnks com jenn paulsen paulsen hmot com jamie parker jparker hmot com subject peace press conference notes senator steve peace held a press conference today to discuss as chair of the senate budget committee the senate budget proposal with contain billion for a special reserve for energy initiatives he stated that he is not proposing any uses for this money that it is designed to preserve the options for the governor and other policy makers in dealing with california s energy woes however he proceeded to outl ine some possible options including the state taking over the transmission system condemning power plants and the state running them condemning just the output of the states power plants or having the state build power plants again he is not proposing these they are just options for the governor other comments of interest generators are only willing to build power plants if they can get cent s kw hr if that s the case the state can build them for cheaper he noted that today the cec will release some data that calls into questions there is a supply problem independent energy producers have fabricated the supply problem criticized generators for pushing for retail solutions saying that nothing would be more disastrous than opening the retail market before the wholesale market is controlled generators are extorting the law and running roughshod over c alifornia s environmental law in a well orchestrated political agenda generators are in a full scale attack on the balance sheets of th e investor owned utilities he also said that the ious have indicated that they would be willing to get back into the generation business if the state finances it generators are asking ferc to keep prices artificially high he still insists that rates are outright market manipulation and that generators were holding back thousands of megawatts of power this summer cites today s higher prices as an example please contact me or our office if you would like a copy of the press release or the other supporting materials including his letter to lynch that urges the cpuc to deny the ious cost pass through request and asks th e cpuc to order the ious to exhaust their legal remedies to obtain refund s from all parties who were the beneficiaries of the proceeds of the unlawful wholesale charges the ious incurred end julee malinowski ball associate edson modisette fax jmball ns net'"
      ]
     },
     "execution_count": 56,
     "metadata": {
      "tags": []
     },
     "output_type": "execute_result"
    }
   ],
   "source": [
    "y_test[213]"
   ]
  },
  {
   "cell_type": "code",
   "execution_count": null,
   "metadata": {
    "id": "W8BvstmFl7VD"
   },
   "outputs": [],
   "source": [
    "seed_text2=X_test2[213]"
   ]
  },
  {
   "cell_type": "code",
   "execution_count": null,
   "metadata": {
    "colab": {
     "base_uri": "https://localhost:8080/",
     "height": 89
    },
    "id": "tjBwkA04ltOb",
    "outputId": "740c00ba-d202-4265-ded3-9e5dc32b1180"
   },
   "outputs": [
    {
     "name": "stderr",
     "output_type": "stream",
     "text": [
      "/usr/local/lib/python3.6/dist-packages/tensorflow/python/keras/engine/sequential.py:450: UserWarning: `model.predict_classes()` is deprecated and will be removed after 2021-01-01. Please use instead:* `np.argmax(model.predict(x), axis=-1)`,   if your model does multi-class classification   (e.g. if it uses a `softmax` last-layer activation).* `(model.predict(x) > 0.5).astype(\"int32\")`,   if your model does binary classification   (e.g. if it uses a `sigmoid` last-layer activation).\n",
      "  warnings.warn('`model.predict_classes()` is deprecated and '\n"
     ]
    },
    {
     "data": {
      "application/vnd.google.colaboratory.intrinsic+json": {
       "type": "string"
      },
      "text/plain": [
       "'statement either months hour impacted'"
      ]
     },
     "execution_count": 58,
     "metadata": {
      "tags": []
     },
     "output_type": "execute_result"
    }
   ],
   "source": [
    "generate_text_seq(model2,tokenizer3,seq_length, seed_text2, 5 )"
   ]
  },
  {
   "cell_type": "code",
   "execution_count": null,
   "metadata": {
    "colab": {
     "base_uri": "https://localhost:8080/",
     "height": 35
    },
    "id": "QBjM03uumY8U",
    "outputId": "0ab7851d-9a22-4fdc-849a-50a4c8eb19bf"
   },
   "outputs": [
    {
     "data": {
      "application/vnd.google.colaboratory.intrinsic+json": {
       "type": "string"
      },
      "text/plain": [
       "'greetings since i get everything that you forward you may remove me from you distribution list hope all is well'"
      ]
     },
     "execution_count": 59,
     "metadata": {
      "tags": []
     },
     "output_type": "execute_result"
    }
   ],
   "source": [
    "X_test2[321]"
   ]
  },
  {
   "cell_type": "code",
   "execution_count": null,
   "metadata": {
    "colab": {
     "base_uri": "https://localhost:8080/",
     "height": 35
    },
    "id": "00ikppcFmfXj",
    "outputId": "78c1f6e6-79db-4dec-ffad-8a0a21916c23"
   },
   "outputs": [
    {
     "data": {
      "application/vnd.google.colaboratory.intrinsic+json": {
       "type": "string"
      },
      "text/plain": [
       "'best jeff'"
      ]
     },
     "execution_count": 60,
     "metadata": {
      "tags": []
     },
     "output_type": "execute_result"
    }
   ],
   "source": [
    "y_test[321]"
   ]
  },
  {
   "cell_type": "code",
   "execution_count": null,
   "metadata": {
    "id": "6lPI0rVkmkOj"
   },
   "outputs": [],
   "source": [
    "seed_text3=X_test2[321]"
   ]
  },
  {
   "cell_type": "code",
   "execution_count": null,
   "metadata": {
    "colab": {
     "base_uri": "https://localhost:8080/",
     "height": 89
    },
    "id": "WAcI2ErCmwd9",
    "outputId": "40de0b1c-ae1c-4b57-f559-6d36e37ef032"
   },
   "outputs": [
    {
     "name": "stderr",
     "output_type": "stream",
     "text": [
      "/usr/local/lib/python3.6/dist-packages/tensorflow/python/keras/engine/sequential.py:450: UserWarning: `model.predict_classes()` is deprecated and will be removed after 2021-01-01. Please use instead:* `np.argmax(model.predict(x), axis=-1)`,   if your model does multi-class classification   (e.g. if it uses a `softmax` last-layer activation).* `(model.predict(x) > 0.5).astype(\"int32\")`,   if your model does binary classification   (e.g. if it uses a `sigmoid` last-layer activation).\n",
      "  warnings.warn('`model.predict_classes()` is deprecated and '\n"
     ]
    },
    {
     "data": {
      "application/vnd.google.colaboratory.intrinsic+json": {
       "type": "string"
      },
      "text/plain": [
       "'we a fried of will'"
      ]
     },
     "execution_count": 62,
     "metadata": {
      "tags": []
     },
     "output_type": "execute_result"
    }
   ],
   "source": [
    "generate_text_seq(model2,tokenizer3,seq_length, seed_text3, 5 )"
   ]
  }
 ],
 "metadata": {
  "accelerator": "GPU",
  "colab": {
   "collapsed_sections": [],
   "name": "Re Reply.ipynb",
   "provenance": []
  },
  "kernelspec": {
   "display_name": "Python 3",
   "language": "python",
   "name": "python3"
  },
  "language_info": {
   "codemirror_mode": {
    "name": "ipython",
    "version": 3
   },
   "file_extension": ".py",
   "mimetype": "text/x-python",
   "name": "python",
   "nbconvert_exporter": "python",
   "pygments_lexer": "ipython3",
   "version": "3.7.4"
  }
 },
 "nbformat": 4,
 "nbformat_minor": 1
}
